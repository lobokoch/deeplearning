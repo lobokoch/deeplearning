{
  "nbformat": 4,
  "nbformat_minor": 0,
  "metadata": {
    "kernelspec": {
      "language": "python",
      "display_name": "Python 3",
      "name": "python3"
    },
    "language_info": {
      "pygments_lexer": "ipython3",
      "nbconvert_exporter": "python",
      "version": "3.6.4",
      "file_extension": ".py",
      "codemirror_mode": {
        "name": "ipython",
        "version": 3
      },
      "name": "python",
      "mimetype": "text/x-python"
    },
    "colab": {
      "name": "deep_leraning_sentiment_analysis_using_lstm_pytorch.ipynb",
      "provenance": []
    }
  },
  "cells": [
    {
      "cell_type": "markdown",
      "metadata": {
        "id": "APSWh8qiy_fi"
      },
      "source": [
        "# Trabalho Final: Deep Learning\n",
        "\n",
        "**FUNDAÇÃO UNIVERSIDADE REGIONAL DE BLUMENAU**  \n",
        "**CENTRO DE CIÊNCIAS EXATAS E NATURAIS**  \n",
        "**DEPARTAMENTO DE SISTEMAS E COMPUTAÇÃO**  \n",
        "**Professor: Luan Porfirio e Silva**  \n",
        "**Disciplina: Deep Learning (Pós-graduação em Data Science)**  \n",
        "**Aluno: Márcio Koch**  \n",
        "\n",
        "### Classificação de textos para análise de sentimentos\n",
        "\n",
        "Base de dados \n",
        "\n",
        "Istruções:\n",
        "- O objetivo deste trabalho é criar um modelo binário de aprendizado de máquina para classificação de textos. \n",
        "Para isso, será utilizado a base de dados [IMDb](http://ai.stanford.edu/~amaas/data/sentiment/), que consiste de dados textuais de críticas positivas e negativas de filmes\n",
        "- Uma vez treinado, o modelo deve ter uma função `predict` que recebe uma string como parâmetro e retorna o valor 1 ou 0, aonde 1 significa uma crítica positiva e 0 uma crítica negativa\n",
        "- O pré-processamento pode ser desenvolvidado conforme desejar (ex.: remoção de stopwords, word embedding, one-hot encoding, char encoding)\n",
        "- É preferível que seja empregado um modelo de recorrência (ex.: rnn, lstm, gru) para a etapa de classificação\n",
        "- Documente o código (explique sucintamente o que cada função faz, insira comentários em trechos de código relevantes)\n",
        "- **Atenção**: Uma vez treinado o modelo final, salve-o no diretório do seu projeto e crie uma célula ao final do notebook contendo uma função de leitura deste arquivo, juntamente com a execução da função `predict`\n",
        "\n",
        "Sugestões:\n",
        "- Explorar a base de dados nas células iniciais do notebook para ter um melhor entendimento do problema, distribuição dos dados, etc\n",
        "- Após desenvolver a estrutura de classificação, é indicado fazer uma busca de hiperparâmetros e comparar os resultados obtidos em diferentes situações\n",
        "\n",
        "Prazo de entrega:\n",
        "- 01-08-2021 às 23:59hs GMT-3\n",
        "\n",
        "Formato preferível de entrega:\n",
        "- Postar no portal Ava da disciplina o link do projeto no github (ou anexar o projeto diretamente no portal Ava)\n",
        "\n",
        "luann.porfirio@gmail.com"
      ]
    },
    {
      "cell_type": "markdown",
      "metadata": {
        "id": "NX6y-_iq0nhg"
      },
      "source": [
        "In this kernel we will go through a sentiment analysis on imdb dataset using LSTM."
      ]
    },
    {
      "cell_type": "code",
      "metadata": {
        "_uuid": "8f2839f25d086af736a60e9eeb907d3b93b6e0e5",
        "_cell_guid": "b1076dfc-b9ad-4769-8c92-a6c4dae69d19",
        "trusted": true,
        "colab": {
          "base_uri": "https://localhost:8080/"
        },
        "id": "WZGv8AAAy_fj",
        "outputId": "2082d73b-64e3-41ab-fe6b-d1669d0241c6"
      },
      "source": [
        "# Baseado no original em: https://www.kaggle.com/arunmohan003/sentiment-analysis-using-lstm-pytorch\n",
        "\n",
        "#Imports\n",
        "import numpy as np\n",
        "import pandas as pd\n",
        "import torch\n",
        "import torch.nn as nn\n",
        "import torch.nn.functional as F\n",
        "from nltk.corpus import stopwords\n",
        "from collections import Counter\n",
        "import string\n",
        "import re\n",
        "import seaborn as sns\n",
        "from tqdm import tqdm\n",
        "import matplotlib.pyplot as plt\n",
        "from torch.utils.data import TensorDataset, DataLoader\n",
        "from sklearn.model_selection import train_test_split\n",
        "from torchtext import datasets\n",
        "\n",
        "# Tratamentos das stopwords\n",
        "import nltk\n",
        "nltk.download('stopwords')\n",
        "\n",
        "# Suporte a uso de GPU para processamento, caso não tenha GPU disponível, usa CPU.\n",
        "is_cuda = torch.cuda.is_available()\n",
        "\n",
        "if is_cuda:\n",
        "    device = torch.device(\"cuda\")\n",
        "    print(\"GPU disponível\")\n",
        "else:\n",
        "    device = torch.device(\"cpu\")\n",
        "    print(\"GPU not available, CPU used\")\n"
      ],
      "execution_count": 16,
      "outputs": [
        {
          "output_type": "stream",
          "text": [
            "[nltk_data] Downloading package stopwords to /root/nltk_data...\n",
            "[nltk_data]   Package stopwords is already up-to-date!\n",
            "GPU not available, CPU used\n"
          ],
          "name": "stdout"
        }
      ]
    },
    {
      "cell_type": "code",
      "metadata": {
        "id": "Vmy3GYi9zpyR",
        "colab": {
          "base_uri": "https://localhost:8080/"
        },
        "outputId": "4c9e1a00-5129-4727-8f83-d3f24ee99281"
      },
      "source": [
        "# Carrega o banco de dados, e divide as imagens em treino e teste.\n",
        "train_iter, test_iter = datasets.IMDB()"
      ],
      "execution_count": 17,
      "outputs": [
        {
          "output_type": "stream",
          "text": [
            "aclImdb_v1.tar.gz: 100%|██████████| 84.1M/84.1M [00:05<00:00, 14.8MB/s]\n"
          ],
          "name": "stderr"
        }
      ]
    },
    {
      "cell_type": "code",
      "metadata": {
        "id": "4NCdwBzX0D_O"
      },
      "source": [
        "# Coloca as linhas de texto e rótulos cada uma em uma lista.\n",
        "def read_test_train_dir(data_iter):\n",
        "    labels = []\n",
        "    texts = []     \n",
        "    for label, text in data_iter:\n",
        "      texts.append(text)\n",
        "      labels.append(0 if label == 'neg' else 1)\n",
        "      \n",
        "    return np.array(texts), np.array(labels)"
      ],
      "execution_count": 18,
      "outputs": []
    },
    {
      "cell_type": "code",
      "metadata": {
        "id": "RxkHZwpNZhfU"
      },
      "source": [
        "## Load the each text into texts list\n",
        "## corresponding label will be in labels list. \n",
        "def read_test_train_dir3(data_iter):\n",
        "    labels = []\n",
        "    texts = []\n",
        "\n",
        "    top = 15000\n",
        "    pos_ = 0\n",
        "    neg_ = 0\n",
        "    max = int(top/2)\n",
        "\n",
        "    count = 0\n",
        "    print('max:', max)\n",
        "    for label, text in data_iter:\n",
        "      count = count + 1\n",
        "      #if (count > 200):\n",
        "      #  break\n",
        "\n",
        "      isPos = label == 'pos' and pos_ <= max\n",
        "      #print('isPos:', isPos, ', label:', label, ', pos_:', pos_, ', max:', max)\n",
        "\n",
        "      if isPos:\n",
        "        texts.append(text)\n",
        "        labels.append(1)\n",
        "        pos_ = pos_ + 1\n",
        "\n",
        "      isNeg = label == 'neg' and neg_ <= max\n",
        "      #print('isNeg:', isNeg, ', label:', label, ', neg_:', neg_, ', max:', max)\n",
        "      if isNeg:\n",
        "        texts.append(text)\n",
        "        labels.append(0)\n",
        "        neg_ = neg_ + 1\n",
        "\n",
        "      if top > 0 and len(texts) == top:\n",
        "        break\n",
        "      \n",
        "    #print('labels:', labels)\n",
        "    return np.array(texts), np.array(labels)"
      ],
      "execution_count": 19,
      "outputs": []
    },
    {
      "cell_type": "code",
      "metadata": {
        "id": "ZIrVPtMp0KA6"
      },
      "source": [
        "# Carrega as linhas dos textos e rótulos, tanto para treino como para testes.\n",
        "x_train,y_train = read_test_train_dir(train_iter)\n",
        "x_test, y_test = read_test_train_dir(test_iter)\n",
        "\n",
        "x_train2 = x_train.copy()\n",
        "y_train2 = y_train.copy()\n",
        "x_test2 = x_test.copy()\n",
        "y_test2 = y_test.copy()"
      ],
      "execution_count": 232,
      "outputs": []
    },
    {
      "cell_type": "code",
      "metadata": {
        "colab": {
          "base_uri": "https://localhost:8080/"
        },
        "id": "dRuhPduChMrZ",
        "outputId": "7d566d09-e6f2-420f-c51c-0c760886a5b7"
      },
      "source": [
        "x_train,y_train = read_test_train_dir3(train_iter)\n",
        "x_test, y_test = read_test_train_dir3(test_iter)\n",
        "\n",
        "x_train2 = x_train.copy()\n",
        "y_train2 = y_train.copy()\n",
        "x_test2 = x_test.copy()\n",
        "y_test2 = y_test.copy()"
      ],
      "execution_count": 20,
      "outputs": [
        {
          "output_type": "stream",
          "text": [
            "max: 7500\n",
            "max: 7500\n"
          ],
          "name": "stdout"
        }
      ]
    },
    {
      "cell_type": "code",
      "metadata": {
        "colab": {
          "base_uri": "https://localhost:8080/"
        },
        "id": "CjyGEIHKai0v",
        "outputId": "13228106-077c-4c05-e706-f04f56c24eca"
      },
      "source": [
        "# Imprimi só pra ver e conferir os rótulos\n",
        "print(y_test2)"
      ],
      "execution_count": 21,
      "outputs": [
        {
          "output_type": "stream",
          "text": [
            "[0 0 0 ... 1 1 1]\n"
          ],
          "name": "stdout"
        }
      ]
    },
    {
      "cell_type": "code",
      "metadata": {
        "colab": {
          "base_uri": "https://localhost:8080/"
        },
        "id": "a8AXnfLi1zTy",
        "outputId": "b25f01b7-c0a3-4ee5-dafb-2f4294ea08a8"
      },
      "source": [
        "# Mostra os tamanhos dos arrays.\n",
        "print(f'shape of train data is {x_train.shape}')\n",
        "print(f'shape of test data is {x_test.shape}')"
      ],
      "execution_count": 22,
      "outputs": [
        {
          "output_type": "stream",
          "text": [
            "shape of train data is (15000,)\n",
            "shape of test data is (15000,)\n"
          ],
          "name": "stdout"
        }
      ]
    },
    {
      "cell_type": "code",
      "metadata": {
        "trusted": true,
        "colab": {
          "base_uri": "https://localhost:8080/",
          "height": 265
        },
        "id": "w0HrxVyay_fn",
        "outputId": "41e46eaa-09d1-49e4-df89-acf3a52f9baf"
      },
      "source": [
        "# Plota para ver a simetria das amostras negativas e positivas de treino.\n",
        "dd = pd.Series(y_train).value_counts()\n",
        "sns.barplot(x=np.array(['Negative','Positive']),y=dd.values)\n",
        "plt.show()"
      ],
      "execution_count": 23,
      "outputs": [
        {
          "output_type": "display_data",
          "data": {
            "image/png": "[encoded data removed]",
            "text/plain": [
              "<Figure size 432x288 with 1 Axes>"
            ]
          },
          "metadata": {
            "tags": [],
            "needs_background": "light"
          }
        }
      ]
    },
    {
      "cell_type": "code",
      "metadata": {
        "id": "jQhpQjpnQejz"
      },
      "source": [
        "def preprocess_string(s):    \n",
        "    # Remova todos os caracteres que não sejam palavras (tudo exceto números e letras)\n",
        "    s = re.sub(r\"[^\\w\\s]\", '', s)\n",
        "\n",
        "    # Trata espaços em branco\n",
        "    s = re.sub(r\"\\s+\", '', s)\n",
        "\n",
        "    # Substitui dígitos sem espeços\n",
        "    s = re.sub(r\"\\d\", '', s)\n",
        "\n",
        "    return s\n",
        "\n",
        "def tockenize(x_train,y_train,x_val,y_val):\n",
        "    word_list = []\n",
        "\n",
        "    stop_words = set(stopwords.words('english')) \n",
        "    for sent in x_train:\n",
        "        for word in sent.lower().split():\n",
        "            word = preprocess_string(word)\n",
        "            if word not in stop_words and word != '':\n",
        "                word_list.append(word)\n",
        "  \n",
        "    corpus = Counter(word_list)\n",
        "    \n",
        "    # Classificar com base nas palavras mais comuns\n",
        "    corpus_ = sorted(corpus,key=corpus.get,reverse=True)[:1000]\n",
        "\n",
        "    # Cria um dicionário\n",
        "    onehot_dict = {w:i+1 for i,w in enumerate(corpus_)}\n",
        "    \n",
        "    # Tockenize\n",
        "    final_list_train,final_list_test = [],[]\n",
        "    for sent in x_train:\n",
        "            final_list_train.append([onehot_dict[preprocess_string(word)] for word in sent.lower().split() \n",
        "                                     if preprocess_string(word) in onehot_dict.keys()])\n",
        "    for sent in x_val:\n",
        "            final_list_test.append([onehot_dict[preprocess_string(word)] for word in sent.lower().split() \n",
        "                                    if preprocess_string(word) in onehot_dict.keys()])\n",
        "            \n",
        "    encoded_train = [1 if label =='positive' else 0 for label in y_train]  \n",
        "    encoded_test = [1 if label =='positive' else 0 for label in y_val] \n",
        "    return np.array(final_list_train), np.array(encoded_train),np.array(final_list_test), np.array(encoded_test),onehot_dict"
      ],
      "execution_count": 24,
      "outputs": []
    },
    {
      "cell_type": "code",
      "metadata": {
        "colab": {
          "base_uri": "https://localhost:8080/"
        },
        "id": "FZfcdlv_SRqG",
        "outputId": "611f9fe2-1fae-4e47-833c-39cab9ecf46a"
      },
      "source": [
        "x_train,y_train,x_test,y_test,vocab = tockenize(x_train,y_train,x_test,y_test)"
      ],
      "execution_count": 25,
      "outputs": [
        {
          "output_type": "stream",
          "text": [
            "/usr/local/lib/python3.7/dist-packages/ipykernel_launcher.py:42: VisibleDeprecationWarning: Creating an ndarray from ragged nested sequences (which is a list-or-tuple of lists-or-tuples-or ndarrays with different lengths or shapes) is deprecated. If you meant to do this, you must specify 'dtype=object' when creating the ndarray\n"
          ],
          "name": "stderr"
        }
      ]
    },
    {
      "cell_type": "code",
      "metadata": {
        "colab": {
          "base_uri": "https://localhost:8080/"
        },
        "id": "5RAt6EOsSWDr",
        "outputId": "4ec85514-541f-4d56-ffe4-27d93000c423"
      },
      "source": [
        "print(f'Length of vocabulary is {len(vocab)}')"
      ],
      "execution_count": 26,
      "outputs": [
        {
          "output_type": "stream",
          "text": [
            "Length of vocabulary is 1000\n"
          ],
          "name": "stdout"
        }
      ]
    },
    {
      "cell_type": "markdown",
      "metadata": {
        "id": "sjez9zA8y_fo"
      },
      "source": [
        "### Analysing review length"
      ]
    },
    {
      "cell_type": "code",
      "metadata": {
        "trusted": true,
        "colab": {
          "base_uri": "https://localhost:8080/",
          "height": 428
        },
        "id": "GocJ0CYay_fo",
        "outputId": "db35c9d8-53b3-4fa5-a62d-178085609821"
      },
      "source": [
        "# Mostra uma estatística do comprimento das palavras das linhas de texto para treino.\n",
        "rev_len = [len(i) for i in x_train]\n",
        "pd.Series(rev_len).hist()\n",
        "plt.show()\n",
        "pd.Series(rev_len).describe()"
      ],
      "execution_count": 27,
      "outputs": [
        {
          "output_type": "display_data",
          "data": {
            "image/png": "[encoded data removed]",
            "text/plain": [
              "<Figure size 432x288 with 1 Axes>"
            ]
          },
          "metadata": {
            "tags": [],
            "needs_background": "light"
          }
        },
        {
          "output_type": "execute_result",
          "data": {
            "text/plain": [
              "count    15000.000000\n",
              "mean        69.833800\n",
              "std         48.848481\n",
              "min          3.000000\n",
              "25%         39.000000\n",
              "50%         55.000000\n",
              "75%         85.000000\n",
              "max        545.000000\n",
              "dtype: float64"
            ]
          },
          "metadata": {
            "tags": []
          },
          "execution_count": 27
        }
      ]
    },
    {
      "cell_type": "markdown",
      "metadata": {
        "id": "Zo3115mny_fp"
      },
      "source": [
        "### Padding"
      ]
    },
    {
      "cell_type": "code",
      "metadata": {
        "trusted": true,
        "id": "wERRcnqby_fp"
      },
      "source": [
        "# Preenche cada uma das sequências até o comprimento máximo.\n",
        "def padding_(sentences, seq_len):\n",
        "    features = np.zeros((len(sentences), seq_len),dtype=int)\n",
        "    for ii, review in enumerate(sentences):\n",
        "        if len(review) != 0:\n",
        "            features[ii, -len(review):] = np.array(review)[:seq_len]\n",
        "    return features"
      ],
      "execution_count": 28,
      "outputs": []
    },
    {
      "cell_type": "code",
      "metadata": {
        "trusted": true,
        "id": "4qiriEn9y_fq"
      },
      "source": [
        "# Temos um número muito menor de comentários com comprimento > 500.\n",
        "# Portanto, vamos considerar apenas aqueles abaixo dela.\n",
        "x_train_pad = padding_(x_train,500)\n",
        "x_test_pad = padding_(x_test,500)\n"
      ],
      "execution_count": 29,
      "outputs": []
    },
    {
      "cell_type": "markdown",
      "metadata": {
        "id": "2FHfCJKty_fq"
      },
      "source": [
        "### Batching and loading as tensor"
      ]
    },
    {
      "cell_type": "code",
      "metadata": {
        "trusted": true,
        "id": "pbjZuSbty_fq"
      },
      "source": [
        "# Cria o dataset do Tensor.\n",
        "train_data = TensorDataset(torch.from_numpy(x_train_pad), torch.from_numpy(y_train))\n",
        "valid_data = TensorDataset(torch.from_numpy(x_test_pad), torch.from_numpy(y_test))\n",
        "\n",
        "# dataloaders\n",
        "batch_size = 50\n",
        "\n",
        "# Embaralha os dados\n",
        "train_loader = DataLoader(train_data, shuffle=True, batch_size=batch_size)\n",
        "valid_loader = DataLoader(valid_data, shuffle=True, batch_size=batch_size)"
      ],
      "execution_count": 30,
      "outputs": []
    },
    {
      "cell_type": "code",
      "metadata": {
        "trusted": true,
        "colab": {
          "base_uri": "https://localhost:8080/"
        },
        "id": "eiiaT1jhy_fq",
        "outputId": "79a87560-2c07-42ac-9ae6-ba487c5295b7"
      },
      "source": [
        "# Obter um lote de dados de treinamento.\n",
        "dataiter = iter(train_loader)\n",
        "sample_x, sample_y = dataiter.next()\n",
        "\n",
        "print('Sample input size: ', sample_x.size()) # batch_size, seq_length\n",
        "print('Sample input: \\n', sample_x)\n",
        "print('Sample input: \\n', sample_y)"
      ],
      "execution_count": 31,
      "outputs": [
        {
          "output_type": "stream",
          "text": [
            "Sample input size:  torch.Size([50, 500])\n",
            "Sample input: \n",
            " tensor([[  0,   0,   0,  ..., 833, 749, 936],\n",
            "        [  0,   0,   0,  ...,  23, 914,   7],\n",
            "        [  0,   0,   0,  ..., 133, 133, 141],\n",
            "        ...,\n",
            "        [  0,   0,   0,  ..., 234,   2,   1],\n",
            "        [  0,   0,   0,  ..., 535, 847,   2],\n",
            "        [  0,   0,   0,  ...,   1, 938,  48]])\n",
            "Sample input: \n",
            " tensor([0, 0, 0, 0, 0, 0, 0, 0, 0, 0, 0, 0, 0, 0, 0, 0, 0, 0, 0, 0, 0, 0, 0, 0,\n",
            "        0, 0, 0, 0, 0, 0, 0, 0, 0, 0, 0, 0, 0, 0, 0, 0, 0, 0, 0, 0, 0, 0, 0, 0,\n",
            "        0, 0])\n"
          ],
          "name": "stdout"
        }
      ]
    },
    {
      "cell_type": "markdown",
      "metadata": {
        "id": "xkr2G0tTy_fr"
      },
      "source": [
        "Precisamos adicionar uma camada de incorporação porque há menos palavras em nosso vocabulário. É extremamente ineficiente para codificar one-hot tantas classes. Portanto, em vez de uma codificação one-hot, podemos ter uma camada de embedding e usar essa camada como uma tabela de pesquisa. Você pode treinar uma camada embedding usando Word2Vec e carregá-la aqui. Mas não há problema em apenas fazer uma nova camada, usando-a apenas para redução de dimensionalidade, e deixar a rede aprender os pesos."
      ]
    },
    {
      "cell_type": "markdown",
      "metadata": {
        "id": "3nLqHPsZy_fr"
      },
      "source": [
        "### Preparação do modelo"
      ]
    },
    {
      "cell_type": "code",
      "metadata": {
        "trusted": true,
        "id": "cn6sCWH6y_fr"
      },
      "source": [
        "class SentimentRNN(nn.Module):\n",
        "    def __init__(self,no_layers,vocab_size,hidden_dim,embedding_dim,drop_prob=0.5):\n",
        "        super(SentimentRNN,self).__init__()\n",
        " \n",
        "        self.output_dim = output_dim\n",
        "        self.hidden_dim = hidden_dim\n",
        " \n",
        "        self.no_layers = no_layers\n",
        "        self.vocab_size = vocab_size\n",
        "    \n",
        "        # embedding e camadas LSTM\n",
        "        self.embedding = nn.Embedding(vocab_size, embedding_dim)\n",
        "        \n",
        "        # LSTM\n",
        "        self.lstm = nn.LSTM(input_size=embedding_dim,hidden_size=self.hidden_dim,\n",
        "                           num_layers=no_layers, batch_first=True)\n",
        "        \n",
        "        \n",
        "        # Camada dropout\n",
        "        self.dropout = nn.Dropout(0.3)\n",
        "    \n",
        "        # Camada linear e sigmoid.\n",
        "        self.fc = nn.Linear(self.hidden_dim, output_dim)\n",
        "        self.sig = nn.Sigmoid()\n",
        "        \n",
        "    def forward(self,x,hidden):\n",
        "        batch_size = x.size(0)\n",
        "        # Embeddings e lstm_out\n",
        "        embeds = self.embedding(x)  # Shape: B x S x Feature, desde que batch = True\n",
        "        #print(embeds.shape)  #[50, 500, 1000]\n",
        "        lstm_out, hidden = self.lstm(embeds, hidden)\n",
        "        \n",
        "        lstm_out = lstm_out.contiguous().view(-1, self.hidden_dim) \n",
        "        \n",
        "        # Dropout e camada totalmente conectada.\n",
        "        out = self.dropout(lstm_out)\n",
        "        out = self.fc(out)\n",
        "        \n",
        "        # Função sigmoid\n",
        "        sig_out = self.sig(out)\n",
        "        \n",
        "        # Remodelar para ser batch_size primeiro\n",
        "        sig_out = sig_out.view(batch_size, -1)\n",
        "\n",
        "        sig_out = sig_out[:, -1] # Pega último batch de labels\n",
        "        \n",
        "        # Retorna última saída sigmoid e estado da camda hidden\n",
        "        return sig_out, hidden\n",
        "        \n",
        "        \n",
        "        \n",
        "    def init_hidden(self, batch_size):\n",
        "        ''' Inicializa o hidden state '''\n",
        "        \n",
        "        # Cria dois novos tensores como tamanhos n_layers x batch_size x hidden_dim.\n",
        "        # Inicializado para zero, para o hidden state e cell state da LSTM\n",
        "        h0 = torch.zeros((self.no_layers,batch_size,self.hidden_dim)).to(device)\n",
        "        c0 = torch.zeros((self.no_layers,batch_size,self.hidden_dim)).to(device)\n",
        "        hidden = (h0,c0)\n",
        "        return hidden\n",
        "\n",
        "              "
      ],
      "execution_count": 32,
      "outputs": []
    },
    {
      "cell_type": "code",
      "metadata": {
        "trusted": true,
        "colab": {
          "base_uri": "https://localhost:8080/"
        },
        "id": "g_1jpfmSy_fs",
        "outputId": "1265b87d-b190-4523-c36e-2cc6b58503a7"
      },
      "source": [
        "no_layers = 2\n",
        "vocab_size = len(vocab) + 1 # 1 a mais pra preenchimento (padding)\n",
        "embedding_dim = 64\n",
        "output_dim = 1\n",
        "hidden_dim = 256\n",
        "\n",
        "\n",
        "model = SentimentRNN(no_layers,vocab_size,hidden_dim,embedding_dim,drop_prob=0.5)\n",
        "\n",
        "# Move para GPU, caso tenha\n",
        "model.to(device)\n",
        "\n",
        "# Imprimi o estado do modelo\n",
        "print(model)\n"
      ],
      "execution_count": 33,
      "outputs": [
        {
          "output_type": "stream",
          "text": [
            "SentimentRNN(\n",
            "  (embedding): Embedding(1001, 64)\n",
            "  (lstm): LSTM(64, 256, num_layers=2, batch_first=True)\n",
            "  (dropout): Dropout(p=0.3, inplace=False)\n",
            "  (fc): Linear(in_features=256, out_features=1, bias=True)\n",
            "  (sig): Sigmoid()\n",
            ")\n"
          ],
          "name": "stdout"
        }
      ]
    },
    {
      "cell_type": "markdown",
      "metadata": {
        "id": "2fZfshm7y_fs"
      },
      "source": [
        "### Treinamento"
      ]
    },
    {
      "cell_type": "code",
      "metadata": {
        "trusted": true,
        "id": "4_y6bYbVy_fs"
      },
      "source": [
        "# Função de perda e de otimização\n",
        "lr=0.001\n",
        "\n",
        "criterion = nn.BCELoss()\n",
        "\n",
        "optimizer = torch.optim.Adam(model.parameters(), lr=lr)\n",
        "\n",
        "# Função para calcular a precisão\n",
        "def acc(pred,label):\n",
        "    pred = torch.round(pred.squeeze())\n",
        "    return torch.sum(pred == label.squeeze()).item()\n"
      ],
      "execution_count": 76,
      "outputs": []
    },
    {
      "cell_type": "code",
      "metadata": {
        "trusted": true,
        "id": "7ThYM4OMy_fs",
        "colab": {
          "base_uri": "https://localhost:8080/"
        },
        "outputId": "5dcb2157-5e07-42b6-b554-b99b7acdcf16"
      },
      "source": [
        "\n",
        "# model_path = '/content/drive/MyDrive/Furb/pos-datascience/aclImdb/state_dict.pt'\n",
        "# Caminho e arquivo onde deve salvar o modelo treinado\n",
        "model_path = '/state_dict.pt'\n",
        "clip = 5\n",
        "epochs = 5\n",
        "valid_loss_min = np.Inf\n",
        "\n",
        "epoch_tr_loss,epoch_vl_loss = [],[]\n",
        "epoch_tr_acc,epoch_vl_acc = [],[]\n",
        "\n",
        "# Treina algumas épocas\n",
        "for epoch in range(epochs):\n",
        "    train_losses = []\n",
        "    train_acc = 0.0\n",
        "\n",
        "    print('Starting epoch:', epoch)\n",
        "\n",
        "    print('Before model.train()')\n",
        "    model.train()\n",
        "    print('After model.train()')\n",
        "\n",
        "    # Inicializa o hidden state \n",
        "    h = model.init_hidden(batch_size)\n",
        "\n",
        "    print('Before for inputs, labels in train_loader')\n",
        "    for inputs, labels in train_loader:\n",
        "        \n",
        "        inputs, labels = inputs.to(device), labels.to(device)\n",
        "\n",
        "        # Criando novas variáveis ​​para o hidden state, caso contrário, \n",
        "        # voltaríamos a propagação por todo o histórico de treinamento.\n",
        "        h = tuple([each.data for each in h])\n",
        "        \n",
        "        model.zero_grad()\n",
        "        output,h = model(inputs,h)\n",
        "        \n",
        "        # calculate the loss and perform backprop\n",
        "        # Calcula a perda e realiza o back propagation\n",
        "        loss = criterion(output.squeeze(), labels.float())\n",
        "        loss.backward()\n",
        "        train_losses.append(loss.item())\n",
        "        \n",
        "        # Calculo da precisão\n",
        "        accuracy = acc(output,labels)\n",
        "        train_acc += accuracy\n",
        "        #`clip_grad_norm` ajuda a prevenir o problema de gradiente explosivo em RNNs / LSTMs.\n",
        "        nn.utils.clip_grad_norm_(model.parameters(), clip)\n",
        "        optimizer.step()\n",
        "\n",
        "    print('After for inputs, labels in train_loader')\n",
        " \n",
        "    \n",
        "        \n",
        "    val_h = model.init_hidden(batch_size)\n",
        "    val_losses = []\n",
        "    val_acc = 0.0\n",
        "    model.eval()\n",
        "\n",
        "    print('Before for inputs, labels in valid_loader')\n",
        "    for inputs, labels in valid_loader:\n",
        "            val_h = tuple([each.data for each in val_h])\n",
        "\n",
        "            inputs, labels = inputs.to(device), labels.to(device)\n",
        "\n",
        "            output, val_h = model(inputs, val_h)\n",
        "            val_loss = criterion(output.squeeze(), labels.float())\n",
        "\n",
        "            val_losses.append(val_loss.item())\n",
        "            \n",
        "            accuracy = acc(output,labels)\n",
        "            val_acc += accuracy\n",
        "            \n",
        "    print('After for inputs, labels in valid_loader')\n",
        "\n",
        "    epoch_train_loss = np.mean(train_losses)\n",
        "    epoch_val_loss = np.mean(val_losses)\n",
        "    epoch_train_acc = train_acc/len(train_loader.dataset)\n",
        "    epoch_val_acc = val_acc/len(valid_loader.dataset)\n",
        "    epoch_tr_loss.append(epoch_train_loss)\n",
        "    epoch_vl_loss.append(epoch_val_loss)\n",
        "    epoch_tr_acc.append(epoch_train_acc)\n",
        "    epoch_vl_acc.append(epoch_val_acc)\n",
        "\n",
        "    # Alguns prints de acompanhamento da perda/precisão por época.\n",
        "    print(f'Epoch {epoch+1}') \n",
        "    print(f'train_loss : {epoch_train_loss} val_loss : {epoch_val_loss}')\n",
        "    print(f'train_accuracy : {epoch_train_acc*100} val_accuracy : {epoch_val_acc*100}')\n",
        "    #if epoch_val_loss <= valid_loss_min:\n",
        "    #    torch.save(model.state_dict(), '/content/drive/MyDrive/Furb/pos-datascience/aclImdb/state_dict.pt')\n",
        "    #    print('Validation loss decreased ({:.6f} --> {:.6f}).  Saving model ...'.format(valid_loss_min,epoch_val_loss))\n",
        "    #    valid_loss_min = epoch_val_loss\n",
        "    print(25*'==')\n",
        "\n",
        "# Salva o modelo treinado.\n",
        "torch.save(model.state_dict(), model_path)"
      ],
      "execution_count": null,
      "outputs": [
        {
          "output_type": "stream",
          "text": [
            "Starting epoch: 0\n",
            "Before model.train()\n",
            "After model.train()\n",
            "Before for inputs, labels in train_loader\n"
          ],
          "name": "stdout"
        }
      ]
    },
    {
      "cell_type": "code",
      "metadata": {
        "trusted": true,
        "colab": {
          "base_uri": "https://localhost:8080/",
          "height": 390
        },
        "id": "gA8LaF7Ny_ft",
        "outputId": "8de829b2-885f-451b-d620-6bd700cacf10"
      },
      "source": [
        "# Plota um gráfico de Precisão x Perda\n",
        "fig = plt.figure(figsize = (20, 6))\n",
        "plt.subplot(1, 2, 1)\n",
        "plt.plot(epoch_tr_acc, label='Train Acc')\n",
        "plt.plot(epoch_vl_acc, label='Validation Acc')\n",
        "plt.title(\"Accuracy\")\n",
        "plt.legend()\n",
        "plt.grid()\n",
        "    \n",
        "plt.subplot(1, 2, 2)\n",
        "plt.plot(epoch_tr_loss, label='Train loss')\n",
        "plt.plot(epoch_vl_loss, label='Validation loss')\n",
        "plt.title(\"Loss\")\n",
        "plt.legend()\n",
        "plt.grid()\n",
        "\n",
        "plt.show()"
      ],
      "execution_count": 50,
      "outputs": [
        {
          "output_type": "display_data",
          "data": {
            "image/png": "[encoded data removed]",
            "text/plain": [
              "<Figure size 1440x432 with 2 Axes>"
            ]
          },
          "metadata": {
            "tags": [],
            "needs_background": "light"
          }
        }
      ]
    },
    {
      "cell_type": "markdown",
      "metadata": {
        "id": "7JLmzgZ0y_ft"
      },
      "source": [
        "### Carregar o modelo treinado para predição"
      ]
    },
    {
      "cell_type": "code",
      "metadata": {
        "trusted": true,
        "id": "4sE6oxBGy_ft",
        "colab": {
          "base_uri": "https://localhost:8080/"
        },
        "outputId": "7a5137cc-656e-4d02-dcb4-004b2084f0a2"
      },
      "source": [
        "no_layers = 2\n",
        "#vocab_size = len(vocab) + 1 # 1 a mais pra preenchimento (padding)\n",
        "vocab_size = 1000 + 1 # 1 a mais pra preenchimento (padding)\n",
        "embedding_dim = 64\n",
        "output_dim = 1\n",
        "hidden_dim = 256\n",
        "\n",
        "# Cria a rede e carrega o modelo treinado.\n",
        "model = SentimentRNN(no_layers,vocab_size,hidden_dim,embedding_dim,drop_prob=0.5)\n",
        "\n",
        "#model_path = '/content/drive/MyDrive/Furb/pos-datascience/aclImdb/state_dict.pt'\n",
        "model_path = 'state_dict.pt'\n",
        "model.load_state_dict(torch.load(model_path), strict=False)\n",
        "\n",
        "# Passar para GPU, se tiver\n",
        "model.to(device)"
      ],
      "execution_count": 35,
      "outputs": [
        {
          "output_type": "execute_result",
          "data": {
            "text/plain": [
              "SentimentRNN(\n",
              "  (embedding): Embedding(1001, 64)\n",
              "  (lstm): LSTM(64, 256, num_layers=2, batch_first=True)\n",
              "  (dropout): Dropout(p=0.3, inplace=False)\n",
              "  (fc): Linear(in_features=256, out_features=1, bias=True)\n",
              "  (sig): Sigmoid()\n",
              ")"
            ]
          },
          "metadata": {
            "tags": []
          },
          "execution_count": 35
        }
      ]
    },
    {
      "cell_type": "code",
      "metadata": {
        "id": "nezgFQMiYI6z"
      },
      "source": [
        "def predict_text(model, text):\n",
        "        word_seq = np.array([vocab[preprocess_string(word)] for word in text.split() \n",
        "                         if preprocess_string(word) in vocab.keys()])\n",
        "        word_seq = np.expand_dims(word_seq,axis=0)\n",
        "        pad =  torch.from_numpy(padding_(word_seq,500))\n",
        "        inputs = pad.to(device)\n",
        "        batch_size = 1\n",
        "        h = model.init_hidden(batch_size)\n",
        "        h = tuple([each.data for each in h])\n",
        "        output, h = model(inputs, h)\n",
        "        return(output.item())"
      ],
      "execution_count": 36,
      "outputs": []
    },
    {
      "cell_type": "code",
      "metadata": {
        "colab": {
          "base_uri": "https://localhost:8080/"
        },
        "id": "ZION8yKVUTLc",
        "outputId": "60b9dfd0-46f0-402d-ffc2-4ba58e4c0b3f"
      },
      "source": [
        "# Faz uma predição POSITIVA\n",
        "text = \"I'm a Petty Officer 1st Class (E-6) and have been in the USCG for 6 years and feel that this movie strongly represents the Coast Guard. There were only a few scenes that were far fetched. The most far-fetched was when PO Fischer (Kutcher) went down inside of the sinking vessel to pull the vessel's captain out of the engine room... that would never happen. Swimmers are not allowed to go inside of any vessel no matter the circumstances. Second, the Command Center (supposedly in Kodiak), it looked more like a NASA command center... we don't have any gear that hi-tech. Third, the Captain of the Airstation would not be running the search & rescue cases with like 10 people on watch. In reality it would be an E-6 or E-7 as the SAR Controller and maybe 2 other support personnel like an assist SAR Controller & a Radio Watchstander. Otherwise the movie was dead on, I think they should have incorporated more of the other rates in the CG and their roles in search & rescue instead of just Aviation based rates. Some of the scenes from \\\"A\\\" school reminded me of my days their and the dumb stuff I did and got in trouble for in my younger days.\"\n",
        "\n",
        "pro = predict_text(model, text)\n",
        "status = \"POSITIVE\" if pro > 0.5 else \"NEGATIVE\"\n",
        "pro = (1 - pro) if status == \"negative\" else pro\n",
        "print(f'Predicted sentiment is {status} with a probability of {pro}')"
      ],
      "execution_count": 46,
      "outputs": [
        {
          "output_type": "stream",
          "text": [
            "Predicted sentiment is POSITIVE with a probability of 0.6770827770233154\n"
          ],
          "name": "stdout"
        }
      ]
    },
    {
      "cell_type": "code",
      "metadata": {
        "colab": {
          "base_uri": "https://localhost:8080/"
        },
        "id": "1MfSakaCTch2",
        "outputId": "767c9f9b-afdf-4d2d-ac10-3e7de896eca8"
      },
      "source": [
        "# Ativa o Google Drive\n",
        "# from google.colab import drive\n",
        "# drive.mount('/content/drive')"
      ],
      "execution_count": 23,
      "outputs": [
        {
          "output_type": "stream",
          "text": [
            "Drive already mounted at /content/drive; to attempt to forcibly remount, call drive.mount(\"/content/drive\", force_remount=True).\n"
          ],
          "name": "stdout"
        }
      ]
    }
  ]
}